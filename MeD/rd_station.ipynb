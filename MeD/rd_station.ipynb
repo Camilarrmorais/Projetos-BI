{
 "cells": [
  {
   "cell_type": "code",
   "execution_count": 30,
   "metadata": {},
   "outputs": [
    {
     "ename": "SyntaxError",
     "evalue": "invalid syntax (361294405.py, line 1)",
     "output_type": "error",
     "traceback": [
      "\u001b[0;36m  Cell \u001b[0;32mIn[30], line 1\u001b[0;36m\u001b[0m\n\u001b[0;31m    pip install pandas\u001b[0m\n\u001b[0m        ^\u001b[0m\n\u001b[0;31mSyntaxError\u001b[0m\u001b[0;31m:\u001b[0m invalid syntax\n"
     ]
    }
   ],
   "source": [
    "pip install pandas"
   ]
  },
  {
   "cell_type": "code",
   "execution_count": 31,
   "metadata": {},
   "outputs": [
    {
     "name": "stdout",
     "output_type": "stream",
     "text": [
      "Defaulting to user installation because normal site-packages is not writeable\n",
      "Collecting python-dotenv\n",
      "  Downloading python_dotenv-1.1.0-py3-none-any.whl (20 kB)\n",
      "Installing collected packages: python-dotenv\n",
      "Successfully installed python-dotenv-1.1.0\n",
      "\u001b[33mWARNING: You are using pip version 21.2.4; however, version 25.0.1 is available.\n",
      "You should consider upgrading via the '/Library/Developer/CommandLineTools/usr/bin/python3 -m pip install --upgrade pip' command.\u001b[0m\n",
      "Note: you may need to restart the kernel to use updated packages.\n"
     ]
    }
   ],
   "source": [
    "pip install python-dotenv"
   ]
  },
  {
   "cell_type": "code",
   "execution_count": 32,
   "metadata": {},
   "outputs": [],
   "source": [
    "import requests\n",
    "import pandas as pd\n",
    "import json\n",
    "import time\n",
    "import os\n",
    "from dotenv import load_dotenv\n",
    "\n",
    "#Documentação: https://developers.rdstation.com/reference/get_platform-segmentations-id-contacts"
   ]
  },
  {
   "cell_type": "code",
   "execution_count": 33,
   "metadata": {},
   "outputs": [
    {
     "name": "stdout",
     "output_type": "stream",
     "text": [
      "bfb22b7f-d10e-4afb-a884-782ba384c5a9 a6207b7bd2f84555a848eafbfee81d2f ElNr9Is-VtO0Qf75h-0rrGPdR3Vp-qG3NBM54FmQEgs\n"
     ]
    }
   ],
   "source": [
    "load_dotenv()  # Isso carrega as variáveis do arquivo .env\n",
    "\n",
    "CLIENT_ID = os.getenv(\"CLIENT_ID_RD\")\n",
    "CLIENT_SECRET = os.getenv(\"CLIENT_SECRET_RD\")\n",
    "REFRESH_TOKEN= os.getenv(\"REFRESH_TOKEN_RD\")\n",
    "\n",
    "if not CLIENT_ID or not CLIENT_SECRET:\n",
    "    raise EnvironmentError(\"CLIENT_ID_RD ou CLIENT_SECRET_RD não foram encontrados nas variáveis de ambiente.\")"
   ]
  },
  {
   "cell_type": "code",
   "execution_count": 34,
   "metadata": {},
   "outputs": [],
   "source": [
    "# ---- BUSCA O ACCESS_TOKEN ---- #\n",
    "url = \"https://api.rd.services/auth/token\"\n",
    "\n",
    "payload = {\n",
    "    \"client_id\": f'{CLIENT_ID}',\n",
    "    \"client_secret\": f'{CLIENT_SECRET}',\n",
    "    \"refresh_token\": f'{REFRESH_TOKEN}'\n",
    "}\n",
    "headers = {\n",
    "    \"accept\": \"application/json\",\n",
    "    \"content-type\": \"application/json\"\n",
    "}\n",
    "\n",
    "response = requests.post(url, json=payload, headers=headers)\n",
    "\n",
    "dados = response.json()\n",
    "\n",
    "access_token = dados['access_token']"
   ]
  },
  {
   "cell_type": "code",
   "execution_count": 38,
   "metadata": {},
   "outputs": [
    {
     "name": "stdout",
     "output_type": "stream",
     "text": [
      "Página 1 carregada com 125 contatos.\n",
      "Página 2 carregada com 125 contatos.\n",
      "Página 3 carregada com 125 contatos.\n",
      "Página 4 carregada com 125 contatos.\n",
      "Página 5 carregada com 125 contatos.\n",
      "Página 6 carregada com 125 contatos.\n",
      "Página 7 carregada com 125 contatos.\n",
      "Página 8 carregada com 125 contatos.\n",
      "Página 9 carregada com 125 contatos.\n",
      "Página 10 carregada com 125 contatos.\n",
      "Página 11 carregada com 125 contatos.\n",
      "Página 12 carregada com 125 contatos.\n",
      "Página 13 carregada com 125 contatos.\n",
      "Página 14 carregada com 125 contatos.\n",
      "Página 15 carregada com 125 contatos.\n",
      "Página 16 carregada com 125 contatos.\n",
      "Página 17 carregada com 22 contatos.\n",
      "Fim da paginação. Nenhum contato na página 18.\n",
      "\n",
      "Total de contatos obtidos: 2022\n"
     ]
    }
   ],
   "source": [
    "# ---- CARREGA TODOS OS LEADS DO RD STATION ----#\n",
    "HEADERS_RD = {\n",
    "    \"accept\": \"application/json\",\n",
    "    \"authorization\": f\"Bearer {access_token}\"\n",
    "}\n",
    "#url = \"https://api.rd.services/platform/segmentations/15938747/contacts\" #meu-sim-chegou\n",
    "base_url = \"https://api.rd.services/platform/segmentations/13513770/contacts\"\n",
    "page = 1\n",
    "page_size = 125\n",
    "\n",
    "todos_os_leads = []\n",
    "\n",
    "while True:\n",
    "    url = f\"{base_url}?page={page}&page_size={page_size}\"\n",
    "    response = requests.get(url, headers=HEADERS_RD)\n",
    "\n",
    "    if response.status_code != 200:\n",
    "        print(f\"Erro na página {page}: {response.status_code} - {response.text}\")\n",
    "        break\n",
    "\n",
    "    resultado = response.json()\n",
    "    contatos = resultado.get(\"contacts\", [])\n",
    "\n",
    "    if not contatos:\n",
    "        print(f\"Fim da paginação. Nenhum contato na página {page}.\")\n",
    "        break\n",
    "\n",
    "    df_temp = pd.json_normalize(contatos)\n",
    "    todos_os_leads.append(df_temp)\n",
    "\n",
    "    print(f\"Página {page} carregada com {len(df_temp)} contatos.\")\n",
    "    page += 1\n",
    "\n",
    "# Junta todos os DataFrames em um só\n",
    "df_final = pd.concat(todos_os_leads, ignore_index=True)\n",
    "\n",
    "print(f\"\\nTotal de contatos obtidos: {len(df_final)}\")"
   ]
  },
  {
   "cell_type": "code",
   "execution_count": 37,
   "metadata": {},
   "outputs": [],
   "source": [
    "# ===== NOTION CONFIG =====\n",
    "\n",
    "NOTION_TOKEN = os.getenv(\"NOTION_TOKEN\")\n",
    "NOTION_DATABASE_ID = '1bfe8390748f80389530f5f13fa7c9c6'\n",
    "HEADERS_NOTION = {\n",
    "    \"Authorization\": f\"Bearer {NOTION_TOKEN}\",\n",
    "    \"Notion-Version\": \"2022-06-28\",\n",
    "    \"Content-Type\": \"application/json\"\n",
    "}"
   ]
  },
  {
   "cell_type": "code",
   "execution_count": 39,
   "metadata": {},
   "outputs": [],
   "source": [
    "def get_contact_conversions(contact_uuid):\n",
    "    url = f\"https://api.rd.services/platform/contacts/{contact_uuid}/events?event_type=CONVERSION\"\n",
    "    response = requests.get(url, headers=headers)\n",
    "    \n",
    "    data = response.json()\n",
    "    event_identifiers = []\n",
    "    for event in data:\n",
    "        event_identifiers.append(event.get(\"event_identifier\"))\n",
    "    return event_identifiers\n"
   ]
  },
  {
   "cell_type": "code",
   "execution_count": 40,
   "metadata": {},
   "outputs": [],
   "source": [
    "def buscar_lead_por_email(email):\n",
    "    url = \"https://api.notion.com/v1/databases/{}/query\".format(NOTION_DATABASE_ID)\n",
    "    payload = {\n",
    "        \"filter\": {\n",
    "            \"property\": \"Email\",\n",
    "            \"rich_text\": {\n",
    "                \"equals\": email\n",
    "            }\n",
    "        }\n",
    "    }\n",
    "\n",
    "    response = requests.post(url, headers=HEADERS_NOTION, json=payload)\n",
    "    data = response.json()\n",
    "\n",
    "    results = data.get(\"results\", [])\n",
    "    if results:\n",
    "        return results[0][\"id\"]  # Retorna o ID da página encontrada\n",
    "    return None\n",
    "\n",
    "def criar_ou_atualizar_lead(name, email, linkedin, nick_discord, landing_pages):\n",
    "    # Monta o campo multi-select\n",
    "    multi_select = [{\"name\": lp} for lp in sorted(set(landing_pages))]\n",
    "\n",
    "    page_id = buscar_lead_por_email(email)\n",
    "\n",
    "    payload = {\n",
    "        \"properties\": {\n",
    "            \"Name\": {\"title\": [{\"text\": {\"content\": name}}]},\n",
    "            \"Email\": {\"email\": email},\n",
    "            \"Linkedin\": {\"rich_text\": [{\"text\": {\"content\": linkedin}}]},\n",
    "            \"Nick Discord\": {\"rich_text\": [{ \"text\": {\"content\": nick_discord}}]},\n",
    "            \"landing-page\": {\"multi_select\": multi_select}\n",
    "        }\n",
    "    }\n",
    "\n",
    "    if page_id:\n",
    "        # Atualiza registro existente\n",
    "        url = f\"https://api.notion.com/v1/pages/{page_id}\"\n",
    "        response = requests.patch(url, headers=HEADERS_NOTION, json=payload)\n",
    "        print(f\"Lead atualizado: {email}\")\n",
    "    else:\n",
    "        # Cria novo registro\n",
    "        payload[\"parent\"] = {\"database_id\": NOTION_DATABASE_ID}\n",
    "        url = \"https://api.notion.com/v1/pages\"\n",
    "        response = requests.post(url, headers=HEADERS_NOTION, json=payload)\n",
    "        print(f\"Lead criado: {email}\")\n",
    "\n",
    "    if response.status_code not in [200, 201]:\n",
    "        print(\"Status Code:\", response.status_code)\n",
    "        print(f\"Erro ao salvar lead {email}: {response.text}\")"
   ]
  },
  {
   "cell_type": "code",
   "execution_count": 14,
   "metadata": {},
   "outputs": [
    {
     "name": "stdout",
     "output_type": "stream",
     "text": [
      "brendagarciabsg@gmail.com\n",
      "{'error_description': 'The access token is missing', 'error': 'invalid_request'}\n",
      "None\n"
     ]
    },
    {
     "ename": "AttributeError",
     "evalue": "'str' object has no attribute 'get'",
     "output_type": "error",
     "traceback": [
      "\u001b[0;31m---------------------------------------------------------------------------\u001b[0m",
      "\u001b[0;31mAttributeError\u001b[0m                            Traceback (most recent call last)",
      "Cell \u001b[0;32mIn[14], line 12\u001b[0m\n\u001b[1;32m     10\u001b[0m uuid \u001b[38;5;241m=\u001b[39m data\u001b[38;5;241m.\u001b[39mget(\u001b[38;5;124m'\u001b[39m\u001b[38;5;124muuid\u001b[39m\u001b[38;5;124m'\u001b[39m)\n\u001b[1;32m     11\u001b[0m \u001b[38;5;28mprint\u001b[39m(uuid)\n\u001b[0;32m---> 12\u001b[0m landing_page \u001b[38;5;241m=\u001b[39m \u001b[43mget_contact_conversions\u001b[49m\u001b[43m(\u001b[49m\u001b[43muuid\u001b[49m\u001b[43m)\u001b[49m\n\u001b[1;32m     14\u001b[0m email \u001b[38;5;241m=\u001b[39m data\u001b[38;5;241m.\u001b[39mget(\u001b[38;5;124m'\u001b[39m\u001b[38;5;124memail\u001b[39m\u001b[38;5;124m'\u001b[39m)\n\u001b[1;32m     16\u001b[0m name \u001b[38;5;241m=\u001b[39m data\u001b[38;5;241m.\u001b[39mget(\u001b[38;5;124m'\u001b[39m\u001b[38;5;124mname\u001b[39m\u001b[38;5;124m'\u001b[39m)\n",
      "Cell \u001b[0;32mIn[7], line 8\u001b[0m, in \u001b[0;36mget_contact_conversions\u001b[0;34m(contact_uuid)\u001b[0m\n\u001b[1;32m      6\u001b[0m event_identifiers \u001b[38;5;241m=\u001b[39m []\n\u001b[1;32m      7\u001b[0m \u001b[38;5;28;01mfor\u001b[39;00m event \u001b[38;5;129;01min\u001b[39;00m data:\n\u001b[0;32m----> 8\u001b[0m     event_identifiers\u001b[38;5;241m.\u001b[39mappend(\u001b[43mevent\u001b[49m\u001b[38;5;241;43m.\u001b[39;49m\u001b[43mget\u001b[49m(\u001b[38;5;124m\"\u001b[39m\u001b[38;5;124mevent_identifier\u001b[39m\u001b[38;5;124m\"\u001b[39m))\n\u001b[1;32m      9\u001b[0m \u001b[38;5;28;01mreturn\u001b[39;00m event_identifiers\n",
      "\u001b[0;31mAttributeError\u001b[0m: 'str' object has no attribute 'get'"
     ]
    }
   ],
   "source": [
    "# ===== GRAVAR NO NOTION =====\n",
    "\n",
    "\n",
    "for email in df_final['email']:\n",
    "    print(email)\n",
    "    url = f'https://api.rd.services/platform/contacts/email:{email}'\n",
    "    response = requests.get(url, headers=headers)\n",
    "    data = response.json()\n",
    "    print(data)\n",
    "    uuid = data.get('uuid')\n",
    "    print(uuid)\n",
    "    landing_page = get_contact_conversions(uuid)\n",
    "\n",
    "    email = data.get('email')\n",
    "\n",
    "    name = data.get('name')\n",
    "\n",
    "    if data.get('linkedin')==None:\n",
    "        linkedin = \"\"\n",
    "    else:\n",
    "        linkedin = data.get('linkedin')\n",
    "    \n",
    "    if data.get('cf_nick_discord')==None:\n",
    "        nick_discord=\"\"\n",
    "    else: \n",
    "        nick_discord = data.get('cf_nick_discord')\n",
    "\n",
    "    criar_ou_atualizar_lead(name, email, linkedin, nick_discord, landing_page)\n",
    "    time.sleep(1)\n"
   ]
  }
 ],
 "metadata": {
  "kernelspec": {
   "display_name": "Python 3",
   "language": "python",
   "name": "python3"
  },
  "language_info": {
   "codemirror_mode": {
    "name": "ipython",
    "version": 3
   },
   "file_extension": ".py",
   "mimetype": "text/x-python",
   "name": "python",
   "nbconvert_exporter": "python",
   "pygments_lexer": "ipython3",
   "version": "3.9.6"
  }
 },
 "nbformat": 4,
 "nbformat_minor": 2
}
